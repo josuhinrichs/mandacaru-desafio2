{
 "cells": [
  {
   "cell_type": "markdown",
   "metadata": {},
   "source": [
    "# Desafio parte 2, \n",
    "## Team 2: Francisco de Asis dos Santos Silva, Josué Marinho Hinrichs and Leidy Milena Leal Abril\n",
    "\n"
   ]
  },
  {
   "cell_type": "markdown",
   "metadata": {},
   "source": [
    "In this notebook, we use machine learning to create a model with the ability of classifying text of the financial sector as positive, negative or neutral sentiments. In the first section, we shall show the exploratory analysis of data including the information of dataset, verification of missing or repeated values, sentiments distributions and the words more commons. Also, we shall plot figures corresponding. In the second part, we shall clean up data carrying out tokenization and removing the stop words. \n"
   ]
  },
  {
   "cell_type": "markdown",
   "metadata": {},
   "source": [
    "We import the library and packages:"
   ]
  },
  {
   "cell_type": "code",
   "execution_count": 1,
   "metadata": {},
   "outputs": [
    {
     "name": "stderr",
     "output_type": "stream",
     "text": [
      "[nltk_data] Downloading package punkt to /home/leidy/nltk_data...\n",
      "[nltk_data]   Package punkt is already up-to-date!\n",
      "[nltk_data] Downloading package stopwords to /home/leidy/nltk_data...\n",
      "[nltk_data]   Package stopwords is already up-to-date!\n",
      "[nltk_data] Downloading package averaged_perceptron_tagger to\n",
      "[nltk_data]     /home/leidy/nltk_data...\n",
      "[nltk_data]   Package averaged_perceptron_tagger is already up-to-\n",
      "[nltk_data]       date!\n"
     ]
    },
    {
     "data": {
      "text/plain": [
       "True"
      ]
     },
     "execution_count": 1,
     "metadata": {},
     "output_type": "execute_result"
    }
   ],
   "source": [
    "import nltk\n",
    "import numpy as np\n",
    "import pandas as pd\n",
    "import matplotlib.pyplot as plt\n",
    "import seaborn as sns\n",
    "\n",
    "nltk.download('punkt')\n",
    "nltk.download('stopwords')\n",
    "nltk.download('averaged_perceptron_tagger')"
   ]
  },
  {
   "cell_type": "markdown",
   "metadata": {},
   "source": [
    "We import the dataset used to train the model:"
   ]
  },
  {
   "cell_type": "code",
   "execution_count": 2,
   "metadata": {},
   "outputs": [
    {
     "data": {
      "text/html": [
       "<div>\n",
       "<style scoped>\n",
       "    .dataframe tbody tr th:only-of-type {\n",
       "        vertical-align: middle;\n",
       "    }\n",
       "\n",
       "    .dataframe tbody tr th {\n",
       "        vertical-align: top;\n",
       "    }\n",
       "\n",
       "    .dataframe thead th {\n",
       "        text-align: right;\n",
       "    }\n",
       "</style>\n",
       "<table border=\"1\" class=\"dataframe\">\n",
       "  <thead>\n",
       "    <tr style=\"text-align: right;\">\n",
       "      <th></th>\n",
       "      <th>Sentence</th>\n",
       "      <th>Sentiment</th>\n",
       "    </tr>\n",
       "  </thead>\n",
       "  <tbody>\n",
       "    <tr>\n",
       "      <th>0</th>\n",
       "      <td>The GeoSolutions technology will leverage Bene...</td>\n",
       "      <td>positive</td>\n",
       "    </tr>\n",
       "    <tr>\n",
       "      <th>1</th>\n",
       "      <td>$ESI on lows, down $1.50 to $2.50 BK a real po...</td>\n",
       "      <td>negative</td>\n",
       "    </tr>\n",
       "    <tr>\n",
       "      <th>2</th>\n",
       "      <td>For the last quarter of 2010 , Componenta 's n...</td>\n",
       "      <td>positive</td>\n",
       "    </tr>\n",
       "    <tr>\n",
       "      <th>3</th>\n",
       "      <td>According to the Finnish-Russian Chamber of Co...</td>\n",
       "      <td>neutral</td>\n",
       "    </tr>\n",
       "    <tr>\n",
       "      <th>4</th>\n",
       "      <td>The Swedish buyout firm has sold its remaining...</td>\n",
       "      <td>neutral</td>\n",
       "    </tr>\n",
       "  </tbody>\n",
       "</table>\n",
       "</div>"
      ],
      "text/plain": [
       "                                            Sentence Sentiment\n",
       "0  The GeoSolutions technology will leverage Bene...  positive\n",
       "1  $ESI on lows, down $1.50 to $2.50 BK a real po...  negative\n",
       "2  For the last quarter of 2010 , Componenta 's n...  positive\n",
       "3  According to the Finnish-Russian Chamber of Co...   neutral\n",
       "4  The Swedish buyout firm has sold its remaining...   neutral"
      ]
     },
     "execution_count": 2,
     "metadata": {},
     "output_type": "execute_result"
    }
   ],
   "source": [
    "dataset = pd.read_csv('./data.csv')\n",
    "dataset.head(5)"
   ]
  },
  {
   "attachments": {},
   "cell_type": "markdown",
   "metadata": {},
   "source": [
    "## a) Exploratory analysis"
   ]
  },
  {
   "attachments": {},
   "cell_type": "markdown",
   "metadata": {},
   "source": [
    "#### - Initial analysis of data:\n",
    "We use info() to obtain the total number of columns and raws as well as the type:"
   ]
  },
  {
   "cell_type": "code",
   "execution_count": 3,
   "metadata": {},
   "outputs": [
    {
     "name": "stdout",
     "output_type": "stream",
     "text": [
      "<class 'pandas.core.frame.DataFrame'>\n",
      "RangeIndex: 5842 entries, 0 to 5841\n",
      "Data columns (total 2 columns):\n",
      " #   Column     Non-Null Count  Dtype \n",
      "---  ------     --------------  ----- \n",
      " 0   Sentence   5842 non-null   object\n",
      " 1   Sentiment  5842 non-null   object\n",
      "dtypes: object(2)\n",
      "memory usage: 91.4+ KB\n"
     ]
    }
   ],
   "source": [
    "dataset.info()"
   ]
  },
  {
   "cell_type": "markdown",
   "metadata": {},
   "source": [
    "#### - Verifying missing values. \n",
    "If there are some missing values we shall remove the corresponding row in the next item."
   ]
  },
  {
   "cell_type": "code",
   "execution_count": 4,
   "metadata": {},
   "outputs": [
    {
     "name": "stdout",
     "output_type": "stream",
     "text": [
      "Sentence     0\n",
      "Sentiment    0\n",
      "dtype: int64\n"
     ]
    }
   ],
   "source": [
    "valores_faltantes = dataset.isnull().sum()\n",
    "print(valores_faltantes)"
   ]
  },
  {
   "cell_type": "markdown",
   "metadata": {},
   "source": [
    "#### - Description of data:\n",
    "We use describe() to obtain information more detailed about the dataset:"
   ]
  },
  {
   "cell_type": "code",
   "execution_count": 5,
   "metadata": {},
   "outputs": [
    {
     "data": {
      "text/html": [
       "<div>\n",
       "<style scoped>\n",
       "    .dataframe tbody tr th:only-of-type {\n",
       "        vertical-align: middle;\n",
       "    }\n",
       "\n",
       "    .dataframe tbody tr th {\n",
       "        vertical-align: top;\n",
       "    }\n",
       "\n",
       "    .dataframe thead th {\n",
       "        text-align: right;\n",
       "    }\n",
       "</style>\n",
       "<table border=\"1\" class=\"dataframe\">\n",
       "  <thead>\n",
       "    <tr style=\"text-align: right;\">\n",
       "      <th></th>\n",
       "      <th>Sentence</th>\n",
       "      <th>Sentiment</th>\n",
       "    </tr>\n",
       "  </thead>\n",
       "  <tbody>\n",
       "    <tr>\n",
       "      <th>count</th>\n",
       "      <td>5842</td>\n",
       "      <td>5842</td>\n",
       "    </tr>\n",
       "    <tr>\n",
       "      <th>unique</th>\n",
       "      <td>5322</td>\n",
       "      <td>3</td>\n",
       "    </tr>\n",
       "    <tr>\n",
       "      <th>top</th>\n",
       "      <td>Managing Director 's comments : `` Net sales f...</td>\n",
       "      <td>neutral</td>\n",
       "    </tr>\n",
       "    <tr>\n",
       "      <th>freq</th>\n",
       "      <td>2</td>\n",
       "      <td>3130</td>\n",
       "    </tr>\n",
       "  </tbody>\n",
       "</table>\n",
       "</div>"
      ],
      "text/plain": [
       "                                                 Sentence Sentiment\n",
       "count                                                5842      5842\n",
       "unique                                               5322         3\n",
       "top     Managing Director 's comments : `` Net sales f...   neutral\n",
       "freq                                                    2      3130"
      ]
     },
     "execution_count": 5,
     "metadata": {},
     "output_type": "execute_result"
    }
   ],
   "source": [
    "dataset.describe()"
   ]
  },
  {
   "cell_type": "markdown",
   "metadata": {},
   "source": [
    "#### - Verifying repeated rows?\n",
    "If there are repeated rows we shall remove in the next section."
   ]
  },
  {
   "cell_type": "code",
   "execution_count": 6,
   "metadata": {},
   "outputs": [
    {
     "data": {
      "text/html": [
       "<div>\n",
       "<style scoped>\n",
       "    .dataframe tbody tr th:only-of-type {\n",
       "        vertical-align: middle;\n",
       "    }\n",
       "\n",
       "    .dataframe tbody tr th {\n",
       "        vertical-align: top;\n",
       "    }\n",
       "\n",
       "    .dataframe thead th {\n",
       "        text-align: right;\n",
       "    }\n",
       "</style>\n",
       "<table border=\"1\" class=\"dataframe\">\n",
       "  <thead>\n",
       "    <tr style=\"text-align: right;\">\n",
       "      <th></th>\n",
       "      <th>Sentence</th>\n",
       "      <th>Sentiment</th>\n",
       "    </tr>\n",
       "  </thead>\n",
       "  <tbody>\n",
       "    <tr>\n",
       "      <th>629</th>\n",
       "      <td>Proha Plc ( Euronext :7327 ) announced today (...</td>\n",
       "      <td>neutral</td>\n",
       "    </tr>\n",
       "    <tr>\n",
       "      <th>815</th>\n",
       "      <td>SSH Communications Security Corporation is hea...</td>\n",
       "      <td>neutral</td>\n",
       "    </tr>\n",
       "    <tr>\n",
       "      <th>1825</th>\n",
       "      <td>Proha Plc ( Euronext :7327 ) announced today (...</td>\n",
       "      <td>neutral</td>\n",
       "    </tr>\n",
       "    <tr>\n",
       "      <th>1859</th>\n",
       "      <td>SSH Communications Security Corporation is hea...</td>\n",
       "      <td>neutral</td>\n",
       "    </tr>\n",
       "    <tr>\n",
       "      <th>2234</th>\n",
       "      <td>Ahlstrom 's share is quoted on the NASDAQ OMX ...</td>\n",
       "      <td>neutral</td>\n",
       "    </tr>\n",
       "    <tr>\n",
       "      <th>2553</th>\n",
       "      <td>The issuer is solely responsible for the conte...</td>\n",
       "      <td>neutral</td>\n",
       "    </tr>\n",
       "    <tr>\n",
       "      <th>2672</th>\n",
       "      <td>Ahlstrom 's share is quoted on the NASDAQ OMX ...</td>\n",
       "      <td>neutral</td>\n",
       "    </tr>\n",
       "    <tr>\n",
       "      <th>3079</th>\n",
       "      <td>The company serves customers in various indust...</td>\n",
       "      <td>neutral</td>\n",
       "    </tr>\n",
       "    <tr>\n",
       "      <th>3272</th>\n",
       "      <td>The company serves customers in various indust...</td>\n",
       "      <td>neutral</td>\n",
       "    </tr>\n",
       "    <tr>\n",
       "      <th>3353</th>\n",
       "      <td>The report profiles 614 companies including ma...</td>\n",
       "      <td>neutral</td>\n",
       "    </tr>\n",
       "    <tr>\n",
       "      <th>3986</th>\n",
       "      <td>The issuer is solely responsible for the conte...</td>\n",
       "      <td>neutral</td>\n",
       "    </tr>\n",
       "    <tr>\n",
       "      <th>5342</th>\n",
       "      <td>The report profiles 614 companies including ma...</td>\n",
       "      <td>neutral</td>\n",
       "    </tr>\n",
       "  </tbody>\n",
       "</table>\n",
       "</div>"
      ],
      "text/plain": [
       "                                               Sentence Sentiment\n",
       "629   Proha Plc ( Euronext :7327 ) announced today (...   neutral\n",
       "815   SSH Communications Security Corporation is hea...   neutral\n",
       "1825  Proha Plc ( Euronext :7327 ) announced today (...   neutral\n",
       "1859  SSH Communications Security Corporation is hea...   neutral\n",
       "2234  Ahlstrom 's share is quoted on the NASDAQ OMX ...   neutral\n",
       "2553  The issuer is solely responsible for the conte...   neutral\n",
       "2672  Ahlstrom 's share is quoted on the NASDAQ OMX ...   neutral\n",
       "3079  The company serves customers in various indust...   neutral\n",
       "3272  The company serves customers in various indust...   neutral\n",
       "3353  The report profiles 614 companies including ma...   neutral\n",
       "3986  The issuer is solely responsible for the conte...   neutral\n",
       "5342  The report profiles 614 companies including ma...   neutral"
      ]
     },
     "execution_count": 6,
     "metadata": {},
     "output_type": "execute_result"
    }
   ],
   "source": [
    "duplicates=dataset.duplicated(keep=False)\n",
    "duplicate_rows=dataset[duplicates]\n",
    "duplicate_rows"
   ]
  },
  {
   "cell_type": "markdown",
   "metadata": {},
   "source": [
    "#### - Sentiments distribution:\n",
    "We count the type of sentiments and determine the percentage of each sentiment. Also, we plot a histogram to show the results:"
   ]
  },
  {
   "cell_type": "code",
   "execution_count": 7,
   "metadata": {},
   "outputs": [
    {
     "name": "stderr",
     "output_type": "stream",
     "text": [
      "/tmp/ipykernel_10609/1824531122.py:3: FutureWarning: \n",
      "\n",
      "Passing `palette` without assigning `hue` is deprecated and will be removed in v0.14.0. Assign the `x` variable to `hue` and set `legend=False` for the same effect.\n",
      "\n",
      "  figure=sns.countplot(x=dataset['Sentiment'],order=dataset['Sentiment'].value_counts(ascending=False).index,palette=\"CMRmap_r\",saturation=0.9)\n"
     ]
    },
    {
     "data": {
      "image/png": "[encoded data removed]",
      "text/plain": [
       "<Figure size 400x300 with 1 Axes>"
      ]
     },
     "metadata": {},
     "output_type": "display_data"
    },
    {
     "data": {
      "text/plain": [
       "neutral     3130\n",
       "positive    1852\n",
       "negative     860\n",
       "Name: Sentiment, dtype: int64"
      ]
     },
     "execution_count": 7,
     "metadata": {},
     "output_type": "execute_result"
    }
   ],
   "source": [
    "fig=plt.figure(figsize=(4,3),constrained_layout=True)\n",
    "#c=sns.countplot(x='Sentiment', data=dataset,palette=\"CMRmap_r\",saturation=1)\n",
    "figure=sns.countplot(x=dataset['Sentiment'],order=dataset['Sentiment'].value_counts(ascending=False).index,palette=\"CMRmap_r\",saturation=0.9)\n",
    "total=dataset['Sentiment'].count()\n",
    "for i in range(3):\n",
    "    figure.bar_label(figure.containers[i],fmt=lambda x: f'{(x/total)*100:0.1f}%')\n",
    "figure.margins(y=0.2)\n",
    "figure.set(xlabel='Sentiment',ylabel='Count',title='Sentiments distribution')\n",
    "plt.savefig('Sentiments_distribution.png',dpi=300)\n",
    "plt.show()\n",
    "\n",
    "dataset['Sentiment'].value_counts()"
   ]
  },
  {
   "attachments": {},
   "cell_type": "markdown",
   "metadata": {},
   "source": [
    "#### Exploring the length of texts (string):\n",
    "We obtain statistical information about the first column i.e about 'Sentences':"
   ]
  },
  {
   "cell_type": "code",
   "execution_count": 8,
   "metadata": {},
   "outputs": [
    {
     "data": {
      "text/plain": [
       "count    5842.000000\n",
       "mean      117.020712\n",
       "std        56.417790\n",
       "min         9.000000\n",
       "25%        72.000000\n",
       "50%       107.000000\n",
       "75%       150.000000\n",
       "max       315.000000\n",
       "Name: length_text, dtype: float64"
      ]
     },
     "execution_count": 8,
     "metadata": {},
     "output_type": "execute_result"
    }
   ],
   "source": [
    "dataset['length_text'] = dataset['Sentence'].apply(len)\n",
    "dataset['length_text'].describe()"
   ]
  },
  {
   "attachments": {},
   "cell_type": "markdown",
   "metadata": {},
   "source": [
    "##### Boxplot of the full text:"
   ]
  },
  {
   "cell_type": "code",
   "execution_count": 9,
   "metadata": {},
   "outputs": [
    {
     "data": {
      "image/png": "[encoded data removed]",
      "text/plain": [
       "<Figure size 400x300 with 1 Axes>"
      ]
     },
     "metadata": {},
     "output_type": "display_data"
    }
   ],
   "source": [
    "fig=plt.figure(figsize=(4,3),constrained_layout=True)\n",
    "figure=sns.boxplot(dataset['length_text'],color='olive',width=0.5)\n",
    "figure.set(ylabel='Length text',title='Boxplot of dataset text length')\n",
    "plt.savefig('Boxplot_datasetTextLength.png',dpi=300)\n",
    "plt.show()"
   ]
  },
  {
   "cell_type": "markdown",
   "metadata": {},
   "source": [
    "##### Histograma"
   ]
  },
  {
   "cell_type": "code",
   "execution_count": 10,
   "metadata": {},
   "outputs": [
    {
     "data": {
      "image/png": "[encoded data removed]",
      "text/plain": [
       "<Figure size 400x300 with 1 Axes>"
      ]
     },
     "metadata": {},
     "output_type": "display_data"
    }
   ],
   "source": [
    "fig=plt.figure(figsize=(4,3),constrained_layout=True)\n",
    "sns.set_theme(style='white')\n",
    "figure=sns.histplot(dataset['length_text'],color='olive',ec='k')\n",
    "figure.set(xlabel='Length text',ylabel='Count',title='Distribution of dataset text length')\n",
    "plt.savefig('Histogram_datasetTextLength.png',dpi=300)\n",
    "plt.show()\n",
    "#"
   ]
  },
  {
   "cell_type": "markdown",
   "metadata": {},
   "source": [
    "### - Length of the text by group:\n",
    "We classify the text by sentiment and obtain the length of the text:"
   ]
  },
  {
   "cell_type": "code",
   "execution_count": 11,
   "metadata": {},
   "outputs": [
    {
     "name": "stderr",
     "output_type": "stream",
     "text": [
      "/tmp/ipykernel_10609/1581973228.py:2: FutureWarning: \n",
      "\n",
      "Passing `palette` without assigning `hue` is deprecated and will be removed in v0.14.0. Assign the `x` variable to `hue` and set `legend=False` for the same effect.\n",
      "\n",
      "  figure=sns.boxplot(x=dataset['Sentiment'],y=dataset['Sentence'].apply(len),order=dataset['Sentiment'].value_counts(ascending=False).index,width=0.5,palette=\"CMRmap_r\",saturation=0.9)\n"
     ]
    },
    {
     "data": {
      "image/png": "[encoded data removed]",
      "text/plain": [
       "<Figure size 400x300 with 1 Axes>"
      ]
     },
     "metadata": {},
     "output_type": "display_data"
    }
   ],
   "source": [
    "fig=plt.figure(figsize=(4,3),constrained_layout=True)\n",
    "figure=sns.boxplot(x=dataset['Sentiment'],y=dataset['Sentence'].apply(len),order=dataset['Sentiment'].value_counts(ascending=False).index,width=0.5,palette=\"CMRmap_r\",saturation=0.9)\n",
    "figure.set(ylabel='Length text',title='Boxplot of text length by sentiment')\n",
    "figure.margins(y=0.2)\n",
    "\n",
    "plt.savefig('Boxplot_groupTextLength.png',dpi=300)\n",
    "#plt.show()\n"
   ]
  },
  {
   "cell_type": "markdown",
   "metadata": {},
   "source": [
    "### Words most common:"
   ]
  },
  {
   "cell_type": "code",
   "execution_count": 12,
   "metadata": {},
   "outputs": [
    {
     "data": {
      "text/plain": [
       "[('eur', 1284),\n",
       " ('company', 809),\n",
       " ('mn', 729),\n",
       " ('profit', 568),\n",
       " ('sales', 560),\n",
       " ('finnish', 527),\n",
       " ('said', 516),\n",
       " ('net', 499),\n",
       " ('million', 493),\n",
       " ('operating', 371),\n",
       " ('mln', 349),\n",
       " ('period', 331),\n",
       " ('year', 330),\n",
       " ('group', 326),\n",
       " ('finland', 319),\n",
       " ('quarter', 311),\n",
       " ('share', 285),\n",
       " ('new', 274),\n",
       " ('oyj', 250),\n",
       " ('business', 246),\n",
       " ('first', 240),\n",
       " ('market', 230),\n",
       " ('shares', 229),\n",
       " ('loss', 220),\n",
       " ('also', 211),\n",
       " ('today', 199),\n",
       " ('compared', 199),\n",
       " ('services', 194),\n",
       " ('euro', 192),\n",
       " ('helsinki', 170),\n",
       " ('corresponding', 158),\n",
       " ('per', 150),\n",
       " ('operations', 150),\n",
       " ('percent', 144),\n",
       " ('total', 144),\n",
       " ('contract', 143),\n",
       " ('http', 139),\n",
       " ('financial', 135),\n",
       " ('price', 133),\n",
       " ('https', 132),\n",
       " ('bank', 131),\n",
       " ('decreased', 131),\n",
       " ('nokia', 126),\n",
       " ('products', 124),\n",
       " ('hel', 124),\n",
       " ('stock', 122),\n",
       " ('corporation', 121),\n",
       " ('according', 115),\n",
       " ('pct', 115),\n",
       " ('capital', 114),\n",
       " ('production', 113),\n",
       " ('increased', 109),\n",
       " ('mobile', 108),\n",
       " ('plant', 107),\n",
       " ('companies', 106),\n",
       " ('last', 105),\n",
       " ('well', 105),\n",
       " ('solutions', 104),\n",
       " ('earlier', 103),\n",
       " ('value', 102),\n",
       " ('technology', 101),\n",
       " ('rose', 101),\n",
       " ('investment', 100),\n",
       " ('omx', 100),\n",
       " ('result', 99),\n",
       " ('plc', 99),\n",
       " ('deal', 97),\n",
       " ('unit', 97),\n",
       " ('third', 97),\n",
       " ('would', 96),\n",
       " ('fell', 96),\n",
       " ('increase', 94),\n",
       " ('service', 94),\n",
       " ('order', 94),\n",
       " ('second', 94),\n",
       " ('construction', 93),\n",
       " ('customers', 92),\n",
       " ('board', 91),\n",
       " ('building', 90),\n",
       " ('ceo', 89),\n",
       " ('billion', 88),\n",
       " ('aapl', 87),\n",
       " ('part', 87),\n",
       " ('half', 87),\n",
       " ('industry', 87),\n",
       " ('expected', 86),\n",
       " ('usd', 85),\n",
       " ('earnings', 85),\n",
       " ('oy', 85),\n",
       " ('growth', 84),\n",
       " ('agreement', 84),\n",
       " ('maker', 83),\n",
       " ('one', 83),\n",
       " ('long', 83),\n",
       " ('development', 82),\n",
       " ('systems', 81),\n",
       " ('two', 80),\n",
       " ('lower', 80),\n",
       " ('end', 79),\n",
       " ('buy', 78)]"
      ]
     },
     "execution_count": 12,
     "metadata": {},
     "output_type": "execute_result"
    }
   ],
   "source": [
    "def dataset_token(dataset):\n",
    "    dataset_tokens = []\n",
    "    stopwords = nltk.corpus.stopwords.words('english')\n",
    "    #print(stopwords)\n",
    "    for entry in dataset['Sentence']:\n",
    "        tokens = nltk.tokenize.word_tokenize(entry) \n",
    "        word_norm=[word.lower() for word in tokens if word.isalpha()]\n",
    "        \n",
    "        rows=[word for word in word_norm if word not in stopwords]\n",
    "        dataset_tokens.append(rows)\n",
    "    return dataset_tokens\n",
    "\n",
    "def words_common(dataset_tokens,n):\n",
    "    words_only=[]\n",
    "    for entry in dataset_tokens:\n",
    "        words_only.extend(entry)\n",
    "    freq_dist=nltk.FreqDist(words_only)\n",
    "    words = freq_dist.most_common(n)\n",
    "    return words\n",
    "tokens=dataset_token(dataset)\n",
    "\n",
    "words_commons_dataset=words_common(tokens,100)\n",
    "words_commons_dataset\n"
   ]
  },
  {
   "cell_type": "markdown",
   "metadata": {},
   "source": [
    "#### Figure of distribution of the words of Full Dataset"
   ]
  },
  {
   "cell_type": "code",
   "execution_count": 13,
   "metadata": {},
   "outputs": [
    {
     "name": "stderr",
     "output_type": "stream",
     "text": [
      "/tmp/ipykernel_10609/659067884.py:7: FutureWarning: \n",
      "\n",
      "Passing `palette` without assigning `hue` is deprecated and will be removed in v0.14.0. Assign the `x` variable to `hue` and set `legend=False` for the same effect.\n",
      "\n",
      "  sns.barplot(x='Word', y='Frequency', data=df, palette=\"CMRmap_r\",saturation=0.9)\n"
     ]
    },
    {
     "data": {
      "image/png": "[encoded data removed]",
      "text/plain": [
       "<Figure size 400x300 with 1 Axes>"
      ]
     },
     "metadata": {},
     "output_type": "display_data"
    }
   ],
   "source": [
    "\n",
    "def plot_word_histogram(frequencies, top_n):\n",
    "    sorted_frequencies = sorted(frequencies, key=lambda x: x[1], reverse=True)\n",
    "    top_words, top_counts = zip(*sorted_frequencies[:top_n])\n",
    "    df = pd.DataFrame({'Word': top_words, 'Frequency': top_counts})\n",
    "\n",
    "    fig=plt.figure(figsize=(4,3),constrained_layout=True)\n",
    "    sns.barplot(x='Word', y='Frequency', data=df, palette=\"CMRmap_r\",saturation=0.9)\n",
    "    plt.xlabel('Word')\n",
    "    plt.ylabel('Frequency')\n",
    "    plt.title(f'Top {top_n} Most Common Words')\n",
    "    plt.xticks(rotation=90, ha='right',fontsize=7)\n",
    "    plt.savefig('plot_word_distribution.png')\n",
    "\n",
    "# Example of usage\n",
    "name_file='distribution_words'\n",
    "plot_word_histogram(words_commons_dataset, top_n=20)\n"
   ]
  },
  {
   "cell_type": "markdown",
   "metadata": {},
   "source": [
    "#### Distribution of the adjetives for positive sentiment:"
   ]
  },
  {
   "cell_type": "code",
   "execution_count": 14,
   "metadata": {},
   "outputs": [
    {
     "name": "stderr",
     "output_type": "stream",
     "text": [
      "[nltk_data] Downloading package averaged_perceptron_tagger to\n",
      "[nltk_data]     /home/leidy/nltk_data...\n",
      "[nltk_data]   Package averaged_perceptron_tagger is already up-to-\n",
      "[nltk_data]       date!\n",
      "/tmp/ipykernel_10609/659067884.py:7: FutureWarning: \n",
      "\n",
      "Passing `palette` without assigning `hue` is deprecated and will be removed in v0.14.0. Assign the `x` variable to `hue` and set `legend=False` for the same effect.\n",
      "\n",
      "  sns.barplot(x='Word', y='Frequency', data=df, palette=\"CMRmap_r\",saturation=0.9)\n"
     ]
    },
    {
     "data": {
      "image/png": "[encoded data removed]",
      "text/plain": [
       "<Figure size 400x300 with 1 Axes>"
      ]
     },
     "metadata": {},
     "output_type": "display_data"
    }
   ],
   "source": [
    "nltk.download('averaged_perceptron_tagger')\n",
    "def extract(dataset,sentiment):\n",
    "    grouped=dataset.groupby(dataset.Sentiment)\n",
    "    type_sentiment=grouped.get_group(sentiment)\n",
    "    #TLsentiment = type_sentiment['Sentence'].apply(len)\n",
    "    return type_sentiment\n",
    "def adjetives_dataset(dataset_tokens):\n",
    "    new_col=[]\n",
    "    for linha in tokens:\n",
    "        #norm_words=[word.lower() for word in linha if word.isalpha()]\n",
    "        ps_tagger=nltk.pos_tag(linha)\n",
    "        n_adj=[i[0] for i in ps_tagger if i[1]=='JJ']\n",
    "        new_col.append(n_adj)\n",
    "    return new_col\n",
    "\n",
    "positive = extract(dataset,'positive')\n",
    "tokens=dataset_token(positive)\n",
    "dataset_adjetives = adjetives_dataset(tokens)\n",
    "#print(dataset_adjetives)\n",
    "words_commons_dataset=words_common(dataset_adjetives,100)\n",
    "#words_commons_dataset\n",
    "name_file='distribution_adjetives_positive'\n",
    "plot_word_histogram(words_commons_dataset, top_n=20)"
   ]
  },
  {
   "cell_type": "markdown",
   "metadata": {},
   "source": [
    "#### Distribution of the adjetives for negative sentiment:"
   ]
  },
  {
   "cell_type": "code",
   "execution_count": 15,
   "metadata": {},
   "outputs": [
    {
     "name": "stderr",
     "output_type": "stream",
     "text": [
      "/tmp/ipykernel_10609/659067884.py:7: FutureWarning: \n",
      "\n",
      "Passing `palette` without assigning `hue` is deprecated and will be removed in v0.14.0. Assign the `x` variable to `hue` and set `legend=False` for the same effect.\n",
      "\n",
      "  sns.barplot(x='Word', y='Frequency', data=df, palette=\"CMRmap_r\",saturation=0.9)\n"
     ]
    },
    {
     "data": {
      "image/png": "[encoded data removed]",
      "text/plain": [
       "<Figure size 400x300 with 1 Axes>"
      ]
     },
     "metadata": {},
     "output_type": "display_data"
    }
   ],
   "source": [
    "negative = extract(dataset,'negative')\n",
    "tokens=dataset_token(negative)\n",
    "dataset_adjetives = adjetives_dataset(tokens)\n",
    "#print(dataset_adjetives)\n",
    "words_commons_dataset=words_common(dataset_adjetives,100)\n",
    "#words_commons_dataset\n",
    "name_file='distribution_adjetives_negative'\n",
    "plot_word_histogram(words_commons_dataset, top_n=20)"
   ]
  },
  {
   "cell_type": "markdown",
   "metadata": {},
   "source": [
    "#### Distribution of the adjetives for neutral sentiment:"
   ]
  },
  {
   "cell_type": "code",
   "execution_count": 16,
   "metadata": {},
   "outputs": [
    {
     "name": "stderr",
     "output_type": "stream",
     "text": [
      "/tmp/ipykernel_10609/659067884.py:7: FutureWarning: \n",
      "\n",
      "Passing `palette` without assigning `hue` is deprecated and will be removed in v0.14.0. Assign the `x` variable to `hue` and set `legend=False` for the same effect.\n",
      "\n",
      "  sns.barplot(x='Word', y='Frequency', data=df, palette=\"CMRmap_r\",saturation=0.9)\n"
     ]
    },
    {
     "data": {
      "image/png": "[encoded data removed]",
      "text/plain": [
       "<Figure size 400x300 with 1 Axes>"
      ]
     },
     "metadata": {},
     "output_type": "display_data"
    }
   ],
   "source": [
    "neutral = extract(dataset,'neutral')\n",
    "tokens=dataset_token(neutral)\n",
    "dataset_adjetives = adjetives_dataset(tokens)\n",
    "#print(dataset_adjetives)\n",
    "words_commons_dataset=words_common(dataset_adjetives,100)\n",
    "#words_commons_dataset\n",
    "name_file='distribution_adjetives_neutral'\n",
    "plot_word_histogram(words_commons_dataset, top_n=20)"
   ]
  },
  {
   "cell_type": "markdown",
   "metadata": {},
   "source": [
    "## b) Cleaning up data:"
   ]
  },
  {
   "cell_type": "markdown",
   "metadata": {},
   "source": [
    "### - Removing the repeated rows:"
   ]
  },
  {
   "cell_type": "code",
   "execution_count": 17,
   "metadata": {},
   "outputs": [],
   "source": [
    "dataset = dataset.drop_duplicates(keep='last')"
   ]
  },
  {
   "cell_type": "markdown",
   "metadata": {},
   "source": [
    "### - Tokenizing and removing the stop words:"
   ]
  },
  {
   "cell_type": "code",
   "execution_count": 18,
   "metadata": {},
   "outputs": [
    {
     "name": "stderr",
     "output_type": "stream",
     "text": [
      "[nltk_data] Downloading package wordnet to /home/leidy/nltk_data...\n",
      "[nltk_data]   Package wordnet is already up-to-date!\n"
     ]
    },
    {
     "data": {
      "text/html": [
       "<div>\n",
       "<style scoped>\n",
       "    .dataframe tbody tr th:only-of-type {\n",
       "        vertical-align: middle;\n",
       "    }\n",
       "\n",
       "    .dataframe tbody tr th {\n",
       "        vertical-align: top;\n",
       "    }\n",
       "\n",
       "    .dataframe thead th {\n",
       "        text-align: right;\n",
       "    }\n",
       "</style>\n",
       "<table border=\"1\" class=\"dataframe\">\n",
       "  <thead>\n",
       "    <tr style=\"text-align: right;\">\n",
       "      <th></th>\n",
       "      <th>Sentence</th>\n",
       "      <th>Sentiment</th>\n",
       "      <th>length_text</th>\n",
       "      <th>tokens</th>\n",
       "    </tr>\n",
       "  </thead>\n",
       "  <tbody>\n",
       "    <tr>\n",
       "      <th>0</th>\n",
       "      <td>The GeoSolutions technology will leverage Bene...</td>\n",
       "      <td>positive</td>\n",
       "      <td>209</td>\n",
       "      <td>geosolutions technology leverage benefon gps s...</td>\n",
       "    </tr>\n",
       "    <tr>\n",
       "      <th>1</th>\n",
       "      <td>$ESI on lows, down $1.50 to $2.50 BK a real po...</td>\n",
       "      <td>negative</td>\n",
       "      <td>55</td>\n",
       "      <td>esi low bk real possibility</td>\n",
       "    </tr>\n",
       "    <tr>\n",
       "      <th>2</th>\n",
       "      <td>For the last quarter of 2010 , Componenta 's n...</td>\n",
       "      <td>positive</td>\n",
       "      <td>193</td>\n",
       "      <td>last quarter componenta net sale doubled perio...</td>\n",
       "    </tr>\n",
       "    <tr>\n",
       "      <th>3</th>\n",
       "      <td>According to the Finnish-Russian Chamber of Co...</td>\n",
       "      <td>neutral</td>\n",
       "      <td>128</td>\n",
       "      <td>according chamber commerce major construction ...</td>\n",
       "    </tr>\n",
       "    <tr>\n",
       "      <th>4</th>\n",
       "      <td>The Swedish buyout firm has sold its remaining...</td>\n",
       "      <td>neutral</td>\n",
       "      <td>135</td>\n",
       "      <td>swedish buyout firm sold remaining percent sta...</td>\n",
       "    </tr>\n",
       "    <tr>\n",
       "      <th>...</th>\n",
       "      <td>...</td>\n",
       "      <td>...</td>\n",
       "      <td>...</td>\n",
       "      <td>...</td>\n",
       "    </tr>\n",
       "    <tr>\n",
       "      <th>5837</th>\n",
       "      <td>RISING costs have forced packaging producer Hu...</td>\n",
       "      <td>negative</td>\n",
       "      <td>107</td>\n",
       "      <td>rising cost forced packaging producer huhtamak...</td>\n",
       "    </tr>\n",
       "    <tr>\n",
       "      <th>5838</th>\n",
       "      <td>Nordic Walking was first used as a summer trai...</td>\n",
       "      <td>neutral</td>\n",
       "      <td>83</td>\n",
       "      <td>nordic walking first used summer training meth...</td>\n",
       "    </tr>\n",
       "    <tr>\n",
       "      <th>5839</th>\n",
       "      <td>According shipping company Viking Line , the E...</td>\n",
       "      <td>neutral</td>\n",
       "      <td>99</td>\n",
       "      <td>according shipping company viking line eu deci...</td>\n",
       "    </tr>\n",
       "    <tr>\n",
       "      <th>5840</th>\n",
       "      <td>In the building and home improvement trade , s...</td>\n",
       "      <td>neutral</td>\n",
       "      <td>88</td>\n",
       "      <td>building home improvement trade sale decreased...</td>\n",
       "    </tr>\n",
       "    <tr>\n",
       "      <th>5841</th>\n",
       "      <td>HELSINKI AFX - KCI Konecranes said it has won ...</td>\n",
       "      <td>positive</td>\n",
       "      <td>145</td>\n",
       "      <td>helsinki afx kci konecranes said order four ho...</td>\n",
       "    </tr>\n",
       "  </tbody>\n",
       "</table>\n",
       "<p>5836 rows × 4 columns</p>\n",
       "</div>"
      ],
      "text/plain": [
       "                                               Sentence Sentiment  \\\n",
       "0     The GeoSolutions technology will leverage Bene...  positive   \n",
       "1     $ESI on lows, down $1.50 to $2.50 BK a real po...  negative   \n",
       "2     For the last quarter of 2010 , Componenta 's n...  positive   \n",
       "3     According to the Finnish-Russian Chamber of Co...   neutral   \n",
       "4     The Swedish buyout firm has sold its remaining...   neutral   \n",
       "...                                                 ...       ...   \n",
       "5837  RISING costs have forced packaging producer Hu...  negative   \n",
       "5838  Nordic Walking was first used as a summer trai...   neutral   \n",
       "5839  According shipping company Viking Line , the E...   neutral   \n",
       "5840  In the building and home improvement trade , s...   neutral   \n",
       "5841  HELSINKI AFX - KCI Konecranes said it has won ...  positive   \n",
       "\n",
       "      length_text                                             tokens  \n",
       "0             209  geosolutions technology leverage benefon gps s...  \n",
       "1              55                        esi low bk real possibility  \n",
       "2             193  last quarter componenta net sale doubled perio...  \n",
       "3             128  according chamber commerce major construction ...  \n",
       "4             135  swedish buyout firm sold remaining percent sta...  \n",
       "...           ...                                                ...  \n",
       "5837          107  rising cost forced packaging producer huhtamak...  \n",
       "5838           83  nordic walking first used summer training meth...  \n",
       "5839           99  according shipping company viking line eu deci...  \n",
       "5840           88  building home improvement trade sale decreased...  \n",
       "5841          145  helsinki afx kci konecranes said order four ho...  \n",
       "\n",
       "[5836 rows x 4 columns]"
      ]
     },
     "execution_count": 18,
     "metadata": {},
     "output_type": "execute_result"
    }
   ],
   "source": [
    "nltk.download('wordnet')\n",
    "texts = dataset['Sentence']\n",
    "labels = dataset['Sentiment']\n",
    "\n",
    "# Função para normalizar os textos\n",
    "def normalize(text):\n",
    "    stopwords = nltk.corpus.stopwords.words('english')\n",
    "    tokens = nltk.word_tokenize(text.lower())\n",
    "\n",
    "    # Filtrar palavras\n",
    "    filtered_words = [word for word in tokens if word not in stopwords and word.isalpha()]\n",
    "\n",
    "    # Lematização\n",
    "    lemma = nltk.WordNetLemmatizer()\n",
    "    lemmatized = [lemma.lemmatize(word) for word in filtered_words]\n",
    "    return lemmatized\n",
    "\n",
    "texts=dataset['Sentence'].apply(normalize)\n",
    "\n",
    "new_col=[]\n",
    "for i in texts:\n",
    "    m= ' '.join(i)   \n",
    "    new_col.append(m)\n",
    "\n",
    "dataset['tokens']=new_col"
   ]
  },
  {
   "cell_type": "markdown",
   "metadata": {},
   "source": [
    "## c) Model with neuronal network"
   ]
  },
  {
   "cell_type": "code",
   "execution_count": 75,
   "metadata": {},
   "outputs": [],
   "source": [
    "import numpy as np\n",
    "from sklearn.model_selection import train_test_split\n",
    "from sklearn.preprocessing import LabelEncoder\n",
    "from tensorflow.keras.preprocessing.text import Tokenizer\n",
    "from tensorflow.keras.preprocessing.sequence import pad_sequences\n",
    "from tensorflow.keras.models import Sequential\n",
    "from tensorflow.keras.layers import Embedding, LSTM, Dense"
   ]
  },
  {
   "cell_type": "markdown",
   "metadata": {},
   "source": [
    "##### Here we convert the tokens to integer sequences with the function fit_on_texts:"
   ]
  },
  {
   "cell_type": "code",
   "execution_count": 95,
   "metadata": {},
   "outputs": [],
   "source": [
    "tokenizer = Tokenizer()\n",
    "tokenizer.fit_on_texts(dataset['tokens'])\n",
    "X_sequences = tokenizer.texts_to_sequences(dataset['tokens'])"
   ]
  },
  {
   "cell_type": "markdown",
   "metadata": {},
   "source": [
    "A example of the first row:"
   ]
  },
  {
   "cell_type": "code",
   "execution_count": 94,
   "metadata": {},
   "outputs": [
    {
     "data": {
      "text/html": [
       "<div>\n",
       "<style scoped>\n",
       "    .dataframe tbody tr th:only-of-type {\n",
       "        vertical-align: middle;\n",
       "    }\n",
       "\n",
       "    .dataframe tbody tr th {\n",
       "        vertical-align: top;\n",
       "    }\n",
       "\n",
       "    .dataframe thead th {\n",
       "        text-align: right;\n",
       "    }\n",
       "</style>\n",
       "<table border=\"1\" class=\"dataframe\">\n",
       "  <thead>\n",
       "    <tr style=\"text-align: right;\">\n",
       "      <th></th>\n",
       "      <th>Tokens</th>\n",
       "      <th>Sequences</th>\n",
       "    </tr>\n",
       "  </thead>\n",
       "  <tbody>\n",
       "    <tr>\n",
       "      <th>0</th>\n",
       "      <td>geosolutions</td>\n",
       "      <td>3130</td>\n",
       "    </tr>\n",
       "    <tr>\n",
       "      <th>1</th>\n",
       "      <td>technology</td>\n",
       "      <td>53</td>\n",
       "    </tr>\n",
       "    <tr>\n",
       "      <th>2</th>\n",
       "      <td>leverage</td>\n",
       "      <td>2468</td>\n",
       "    </tr>\n",
       "    <tr>\n",
       "      <th>3</th>\n",
       "      <td>benefon</td>\n",
       "      <td>1176</td>\n",
       "    </tr>\n",
       "    <tr>\n",
       "      <th>4</th>\n",
       "      <td>gps</td>\n",
       "      <td>1588</td>\n",
       "    </tr>\n",
       "  </tbody>\n",
       "</table>\n",
       "</div>"
      ],
      "text/plain": [
       "         Tokens  Sequences\n",
       "0  geosolutions       3130\n",
       "1    technology         53\n",
       "2      leverage       2468\n",
       "3       benefon       1176\n",
       "4           gps       1588"
      ]
     },
     "execution_count": 94,
     "metadata": {},
     "output_type": "execute_result"
    }
   ],
   "source": [
    "col2=X_sequences[0]\n",
    "example_sequences=pd.DataFrame({'Tokens':texts[0],'Sequences':col2})\n",
    "example_sequences.head(5)"
   ]
  },
  {
   "cell_type": "markdown",
   "metadata": {},
   "source": [
    "##### We ensure that sequences have the same length by padding."
   ]
  },
  {
   "cell_type": "code",
   "execution_count": 132,
   "metadata": {},
   "outputs": [
    {
     "name": "stdout",
     "output_type": "stream",
     "text": [
      "The sequences must have length: 35\n",
      "Example of X_padded: 35\n"
     ]
    }
   ],
   "source": [
    "print('The sequences must have length:',  max([len(i) for i in X_sequences]))\n",
    "\n",
    "X_padded = pad_sequences(X_sequences) \n",
    "print('Example of X_padded:',len(X_padded[0]))"
   ]
  },
  {
   "cell_type": "markdown",
   "metadata": {},
   "source": [
    "##### We label the Sentiments: Positive=2,Neutral=1 and Negative=0"
   ]
  },
  {
   "cell_type": "code",
   "execution_count": 133,
   "metadata": {},
   "outputs": [
    {
     "name": "stdout",
     "output_type": "stream",
     "text": [
      "[2 0 2 ... 1 1 2]\n"
     ]
    }
   ],
   "source": [
    "label_encoder = LabelEncoder()\n",
    "y_encoded = label_encoder.fit_transform(dataset['Sentiment'])\n",
    "print(y_encoded)"
   ]
  },
  {
   "cell_type": "markdown",
   "metadata": {},
   "source": [
    "##### We split the text between train = 80% and test=20%:"
   ]
  },
  {
   "cell_type": "code",
   "execution_count": 134,
   "metadata": {},
   "outputs": [],
   "source": [
    "X_train, X_test, y_train, y_test = train_test_split(X_padded, y_encoded, test_size=0.2, random_state=42)"
   ]
  },
  {
   "cell_type": "markdown",
   "metadata": {},
   "source": [
    "##### Building the model:"
   ]
  },
  {
   "cell_type": "code",
   "execution_count": 139,
   "metadata": {},
   "outputs": [
    {
     "name": "stdout",
     "output_type": "stream",
     "text": [
      "Epoch 1/5\n",
      "59/59 [==============================] - 33s 393ms/step - loss: 0.9820 - accuracy: 0.5300 - val_loss: 0.9218 - val_accuracy: 0.5578\n",
      "Epoch 2/5\n",
      "59/59 [==============================] - 21s 358ms/step - loss: 0.7493 - accuracy: 0.6709 - val_loss: 0.7951 - val_accuracy: 0.6488\n",
      "Epoch 3/5\n",
      "59/59 [==============================] - 23s 384ms/step - loss: 0.4492 - accuracy: 0.8091 - val_loss: 0.8513 - val_accuracy: 0.6478\n",
      "Epoch 4/5\n",
      "59/59 [==============================] - 22s 381ms/step - loss: 0.2882 - accuracy: 0.8725 - val_loss: 0.9310 - val_accuracy: 0.6221\n",
      "Epoch 5/5\n",
      "59/59 [==============================] - 41s 695ms/step - loss: 0.2340 - accuracy: 0.8918 - val_loss: 1.0379 - val_accuracy: 0.6210\n"
     ]
    },
    {
     "data": {
      "text/plain": [
       "<keras.src.callbacks.History at 0x7eff9c86ba30>"
      ]
     },
     "execution_count": 139,
     "metadata": {},
     "output_type": "execute_result"
    }
   ],
   "source": [
    "embedding_dim = 100 \n",
    "vocab_size = len(tokenizer.word_index) + 1\n",
    "\n",
    "model = Sequential()\n",
    "model.add(Embedding(input_dim=vocab_size, output_dim=embedding_dim, input_length=X_padded.shape[1]))\n",
    "model.add(LSTM(100, dropout=0.2, recurrent_dropout=0.2))  # You can experiment with the number of LSTM units\n",
    "model.add(Dense(3, activation='sigmoid'))  # 3 classes for sentiment\n",
    "\n",
    "model.compile(loss='sparse_categorical_crossentropy', optimizer='adam', metrics=['accuracy'])\n",
    "\n",
    "model.fit(X_train, y_train, epochs=5, batch_size=64, validation_split=0.2)\n"
   ]
  },
  {
   "cell_type": "code",
   "execution_count": 138,
   "metadata": {},
   "outputs": [
    {
     "data": {
      "text/plain": [
       "8646"
      ]
     },
     "execution_count": 138,
     "metadata": {},
     "output_type": "execute_result"
    }
   ],
   "source": []
  },
  {
   "cell_type": "code",
   "execution_count": 137,
   "metadata": {},
   "outputs": [
    {
     "name": "stdout",
     "output_type": "stream",
     "text": [
      "Model: \"sequential_1\"\n",
      "_________________________________________________________________\n",
      " Layer (type)                Output Shape              Param #   \n",
      "=================================================================\n",
      " embedding_1 (Embedding)     (None, 35, 100)           864600    \n",
      "                                                                 \n",
      " lstm_1 (LSTM)               (None, 100)               80400     \n",
      "                                                                 \n",
      " dense_1 (Dense)             (None, 3)                 303       \n",
      "                                                                 \n",
      "=================================================================\n",
      "Total params: 945303 (3.61 MB)\n",
      "Trainable params: 945303 (3.61 MB)\n",
      "Non-trainable params: 0 (0.00 Byte)\n",
      "_________________________________________________________________\n"
     ]
    }
   ],
   "source": [
    "model.summary()"
   ]
  },
  {
   "cell_type": "markdown",
   "metadata": {},
   "source": []
  },
  {
   "cell_type": "code",
   "execution_count": 136,
   "metadata": {},
   "outputs": [
    {
     "name": "stdout",
     "output_type": "stream",
     "text": [
      "37/37 [==============================] - 1s 29ms/step - loss: 1.0726 - accuracy: 0.6764\n",
      "Test set\n",
      "  Loss: 1.073\n",
      "  Accuracy: 0.676\n"
     ]
    }
   ],
   "source": [
    "accr = model.evaluate(X_test,y_test)\n",
    "print('Test set\\n  Loss: {:0.3f}\\n  Accuracy: {:0.3f}'.format(accr[0],accr[1]))"
   ]
  }
 ],
 "metadata": {
  "kernelspec": {
   "display_name": "Python 3",
   "language": "python",
   "name": "python3"
  },
  "language_info": {
   "codemirror_mode": {
    "name": "ipython",
    "version": 3
   },
   "file_extension": ".py",
   "mimetype": "text/x-python",
   "name": "python",
   "nbconvert_exporter": "python",
   "pygments_lexer": "ipython3",
   "version": "3.8.10"
  },
  "orig_nbformat": 4
 },
 "nbformat": 4,
 "nbformat_minor": 2
}
